{
 "cells": [
  {
   "cell_type": "markdown",
   "id": "197f4078",
   "metadata": {},
   "source": [
    "# Auto Regressive Process"
   ]
  },
  {
   "cell_type": "markdown",
   "id": "52055565",
   "metadata": {},
   "source": [
    "## Hypothesis of AutoRegressive Models of order p \n",
    "$(X_t) = {\\phi_1}{X_{t - 1}} + ... + {\\phi_p}{X_{t - p}} + {W_t},$\n",
    "\n",
    "where $W_t$ is gaussian white noise with constant variance. \n",
    "we usually assume that $E(X_t) = 0 $ for simplification. If $E(X_t) = \\mu$ we can define AR process around $\\mu$ as follows; \n",
    "\n",
    "$X_t - \\mu = \\sum_{i = 1}^p \\phi_i \\left(X_{t-i} - \\mu \\right) + W_t$ \n",
    "\n",
    "which is equivalent to\n",
    "\n",
    "$X_t  = \\mu^{\\star} +  \\sum_{i = 1}^p \\phi_i X_{t-i}  + W_t$\n",
    "\n",
    "where, $\\mu^{\\star} = \\mu (1 - \\sum_{i = 1}^p \\phi_i)$"
   ]
  },
  {
   "cell_type": "markdown",
   "id": "f786555b",
   "metadata": {},
   "source": [
    "$\\begin{aligned}\n",
    "  {X_t} &= {\\phi_1}{X_{t - 1}} + ... + {\\phi_p}{X_{t - p}} + {W_t} \\\\\n",
    "   &= {\\phi_1}B{X_t} + ... + {\\phi_p}B^p{X_t} + {W_t} \\\\\n",
    "   &= ({\\phi_1}B + ... + {\\phi_p}B^p){X_t} + {W_t} \\\\ \n",
    "\\end{aligned},$\n",
    "\n",
    "$(1 - {\\phi _1}B - ... - {\\phi_p}B^p){X_t} = {W_t}$\n",
    "\n",
    "$\\phi(B){X_t} = W_t$"
   ]
  },
  {
   "cell_type": "code",
   "execution_count": null,
   "id": "9b5a919c",
   "metadata": {},
   "outputs": [],
   "source": []
  }
 ],
 "metadata": {
  "kernelspec": {
   "display_name": "Python 3",
   "language": "python",
   "name": "python3"
  },
  "language_info": {
   "codemirror_mode": {
    "name": "ipython",
    "version": 3
   },
   "file_extension": ".py",
   "mimetype": "text/x-python",
   "name": "python",
   "nbconvert_exporter": "python",
   "pygments_lexer": "ipython3",
   "version": "3.8.8"
  }
 },
 "nbformat": 4,
 "nbformat_minor": 5
}

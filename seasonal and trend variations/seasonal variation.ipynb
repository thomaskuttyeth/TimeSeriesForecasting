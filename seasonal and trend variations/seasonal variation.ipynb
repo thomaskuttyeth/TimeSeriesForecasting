{
 "cells": [
  {
   "cell_type": "markdown",
   "id": "4b46531e-0d37-469a-b994-b0c16fa8775e",
   "metadata": {},
   "source": [
    "# Seasonal variation "
   ]
  },
  {
   "cell_type": "markdown",
   "id": "14f45cdb-f71e-4f07-be06-2eb3249a4c0e",
   "metadata": {},
   "source": [
    " * To find seasonal variations in a time series, time intervals should be measured in weeks, months or quarters because if data are expressed annually there is no seasonal variation.\n",
    "* According to season, the seasonal variation may be negative or positive and the total seasonal variation is zero for the year because total negative seasonal fluctuation is equal to total positive seasonal fluctuation.\n",
    "\n",
    "* On the basis of past and current seasonal variations, one can easily forecast short-term seasonal variations as they generally follow similar pattern.\n",
    "\n",
    "* They are calculated in the form of seasonal indices after eliminating the effect of trend, cyclical and irregular variations.\n"
   ]
  },
  {
   "cell_type": "markdown",
   "id": "ff24d810-c2b1-4748-aab0-21d61b003040",
   "metadata": {},
   "source": [
    "## Calculating seasonal indices \n",
    "Seasonal variation are measure in relative terms known as seasonal index. Seasonal index is calculated for each time period. Multiplicative model is applied in the calculation of seasonal indices.\n",
    "\n",
    "In order to obtain annual seasonal data, seasonal index numbers are multiplied by the number of the period in a year. Quarterly data multiplied by 4 and monthly data multiplied by 12. "
   ]
  },
  {
   "cell_type": "markdown",
   "id": "8b64a68c-114f-459e-9c3f-cf51919474fd",
   "metadata": {},
   "source": [
    "## _Methods of measuring seasonal variations_\n",
    " * simple averages \n",
    " * ratio to trend \n",
    " * ratio to moving average"
   ]
  },
  {
   "cell_type": "markdown",
   "id": "34627dcc-215b-4a8b-8c8e-01fcf3f3fefa",
   "metadata": {},
   "source": [
    "### _Interpretation of seasonal indices_\n",
    "A seasonal index of 1.3 (or 130%) would indicate that that season had 30% more than the seasonal average. An example is where Christopher works all throughout the year at a ice-cream shop and earns an average of 100,000 a season for it. If the seasonal index for summer was 1.5, then that means Christopher earns 50% more than the average 100,000.  Likewise a seasonal index of 0.6 in winter would indicate that Christopher earns 40% less than the seasonal average."
   ]
  },
  {
   "cell_type": "markdown",
   "id": "590f25f8-fcb0-4a53-8ee0-69a2f03bae7c",
   "metadata": {},
   "source": [
    "## 1. Simple average - seasonal index \n",
    "This is the easiest and the simplest method of\n",
    "studying seasonal variations. This method is used when\n",
    "the time series variable consists of only the seasonal and\n",
    "random components. The effect of taking average of data\n",
    "corresponding to the same period (say first quarter of\n",
    "each year) is to eliminate the effect of random\n",
    "component and thus, the resulting averages consist of\n",
    "only seasonal component.However this method is based on the\n",
    "unrealistic assumption that the trend and cyclical\n",
    "variations are absent from the data."
   ]
  },
  {
   "cell_type": "markdown",
   "id": "6a68cb7e-7a16-4726-978b-d5a7c5d07303",
   "metadata": {},
   "source": [
    "![image info](images/seasonal_index_simple_average.png)"
   ]
  },
  {
   "cell_type": "markdown",
   "id": "e83d000c-5e21-4133-84f1-e4079eac30f6",
   "metadata": {},
   "source": [
    "## 2. Ratio to moving average - seasonal index \n",
    "\n",
    "* Find the centered 12 monthly (or 4 quarterly) moving averages of the original data values in the time-series.\n",
    "* Express each original data value of the time-series as a percentage of the corresponding centered moving average values obtained in step(1). In other words, in a multiplicative time-series model, we get (Original data values) / (Trend values) × 100 = (T × C × S × I) / (T × C) × 100 = (S × I ) × 100.\n",
    "* This implies that the ratio–to-moving average represents the seasonal and irregular components.\n",
    "* Arrange these percentages according to months or quarter of given years. Find the averages over all months or quarters of the given years.\n",
    "* If the sum of these indices is not 1200 (or 400 for quarterly figures), multiply then by a correction factor = 1200 / (sum of monthly indices). Otherwise, the 12 monthly averages will be considered as seasonal indices."
   ]
  },
  {
   "cell_type": "markdown",
   "id": "21771bc7-9938-4107-8816-d7dd6791d6e2",
   "metadata": {},
   "source": [
    "![image info](images/ratio_to_mv_part1.png)"
   ]
  },
  {
   "cell_type": "markdown",
   "id": "e5e1f04f-f485-40dc-9adf-e0d39ada0fa6",
   "metadata": {},
   "source": [
    "![image info](images/ratio_to_mv_part2.png)"
   ]
  },
  {
   "cell_type": "markdown",
   "id": "b49635f8-76d4-48a8-8192-23e21a0ddd80",
   "metadata": {},
   "source": [
    "## 3. Ratio to trend \n",
    "This method is used when then cyclical variations are\n",
    "absent from the data, i.e. the time series variable Y\n",
    "consists of trend, seasonal and random components\n",
    "![image info](images/ratio_to_trend.png)"
   ]
  },
  {
   "cell_type": "markdown",
   "id": "2270aafe-ba95-4d03-b7f2-29f7c84ecb53",
   "metadata": {},
   "source": [
    "Note : \n",
    " * For finding the seasonal index for q1, we divide the avg(q1s) by avg(demand).\n",
    " * For finding the seasonal index forecast we multiply the seasonal index and the linear trend "
   ]
  },
  {
   "cell_type": "code",
   "execution_count": null,
   "id": "dbd697e4-b554-4ba8-a04d-41938bfb36cf",
   "metadata": {},
   "outputs": [],
   "source": []
  }
 ],
 "metadata": {
  "kernelspec": {
   "display_name": "Python 3",
   "language": "python",
   "name": "python3"
  },
  "language_info": {
   "codemirror_mode": {
    "name": "ipython",
    "version": 3
   },
   "file_extension": ".py",
   "mimetype": "text/x-python",
   "name": "python",
   "nbconvert_exporter": "python",
   "pygments_lexer": "ipython3",
   "version": "3.8.8"
  }
 },
 "nbformat": 4,
 "nbformat_minor": 5
}

{
 "cells": [
  {
   "cell_type": "markdown",
   "id": "ab29e518",
   "metadata": {},
   "source": [
    "## Fundamentals\n",
    "Time series refers to a series in which one variable is time. In time series values are chronologically arranges. The time intervals can be annually, quarterly, daily, hourly, etc. \n",
    "## Purposes of time series \n",
    " * forcasting \n",
    " * analysis \n",
    " \n",
    "## Components of Time Series \n",
    " * Trend component - over a long period of time \n",
    " * seasonality component  - short term regular wave like pattern and observe within 1 year often monthly or quarterly\n",
    " * cyclical component  - long term patterns, regulary occur may vary in length. \n",
    " * irregular component - unpredictable, noise , residual fluctuations.\n",
    " \n",
    "<img src='https://i.stack.imgur.com/4EZrC.png'>"
   ]
  },
  {
   "cell_type": "markdown",
   "id": "26607a3a-fee8-4ccc-8dce-20cf36845bfc",
   "metadata": {},
   "source": [
    "#### Note:\n",
    "Many traditional models require the time seires to be stationary. stationary means the mean, variance and serial correlation are constant over time.  Stationarity makes analysis more straightforward but modern approaches makes it possible to work with data without pre-processing for stationrity."
   ]
  },
  {
   "cell_type": "markdown",
   "id": "fc52ca9c-dfa6-4dbd-8da1-b394f6f1d371",
   "metadata": {},
   "source": [
    "<img src ='https://i2.wp.com/cdn-images-1.medium.com/max/1600/1*U2m5Eq7ScLnf2kG5mnQsKQ.png?w=3840&ssl=1'>"
   ]
  },
  {
   "cell_type": "markdown",
   "id": "b8ce7b4d",
   "metadata": {},
   "source": [
    "## Time Series Modelling "
   ]
  },
  {
   "cell_type": "markdown",
   "id": "30b3e3c0",
   "metadata": {},
   "source": [
    "#####  $X_t = T_t+S_t+C_t+I_t$   -- Additive model \n",
    "\n",
    "#####   $X_t = T_tS_tC_tI_t$  -- Multiplicative model "
   ]
  },
  {
   "cell_type": "markdown",
   "id": "1ba36376",
   "metadata": {},
   "source": [
    "The most popular methods of fitting a mathematical trend is the method of least squares, where the the best fit is that which gives minimizes the total sum of squares of deviations of observations. This method can be useful for fitting both linear and non-linear trend."
   ]
  },
  {
   "cell_type": "markdown",
   "id": "a71285d9",
   "metadata": {},
   "source": [
    "## Fitting of linear trend "
   ]
  },
  {
   "cell_type": "markdown",
   "id": "0271e4ba",
   "metadata": {},
   "source": [
    "${\\sum}Y = na + b{\\sum}t$\n",
    "\n",
    "$ {\\sum}t * Y_t = a {\\sum}t + b{\\sum}t^2$\n",
    "\n",
    "let $X = t-A$, such that ${\\sum}X = 0$ , where A is the year of origin, The normal equation can now be written as ;\n",
    "\n",
    "$ {\\sum}Y = na+b{\\sum}X$ \n",
    "\n",
    "${\\sum}XY = a {\\sum}X + b {\\sum}X^2$ \n",
    "since, ${\\sum}X = 0 $\n",
    "\n",
    "Finally, we have \n",
    "\n",
    "$a = {\\dfrac{{\\sum}Y}{n}}$ and , \n",
    "\n",
    "$b = {\\dfrac{{\\sum}XY}{{\\sum}X^2}}$"
   ]
  },
  {
   "cell_type": "markdown",
   "id": "1a9cf43a",
   "metadata": {},
   "source": [
    "## Moving averages \n",
    "We calculate moving averages to get an overall impression of the pattern of movement over time. This smooths out the irregular component. \n",
    "Definition : averages of a designated number of conscutive time series values. "
   ]
  },
  {
   "cell_type": "code",
   "execution_count": null,
   "id": "24aec122-f336-43c2-a40d-8519ac780b9a",
   "metadata": {},
   "outputs": [],
   "source": []
  }
 ],
 "metadata": {
  "kernelspec": {
   "display_name": "Python 3",
   "language": "python",
   "name": "python3"
  },
  "language_info": {
   "codemirror_mode": {
    "name": "ipython",
    "version": 3
   },
   "file_extension": ".py",
   "mimetype": "text/x-python",
   "name": "python",
   "nbconvert_exporter": "python",
   "pygments_lexer": "ipython3",
   "version": "3.8.8"
  }
 },
 "nbformat": 4,
 "nbformat_minor": 5
}

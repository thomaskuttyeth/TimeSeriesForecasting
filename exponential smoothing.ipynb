{
 "cells": [
  {
   "cell_type": "markdown",
   "id": "33099e64-c403-4951-b8fd-b72eb3082abb",
   "metadata": {},
   "source": [
    "## Exponential Smoothing \n",
    "Exponential smoothing is a time series forecasting method for univariate data that can be extended to support data with a systematic trend or seasonal component.\n",
    "\n",
    "Exponential smoothing forecasting methods are similar in that a prediction is a weighted sum of past observations, but the model explicitly uses an exponentially decreasing weight for past observations\n",
    "* Weighted moving average \n",
    "     * weights decline exponentially \n",
    "     * most recent observation weighted most \n",
    " * Used for smoothing and short term forecasting ( often one or two periods into the future)"
   ]
  },
  {
   "cell_type": "markdown",
   "id": "10ed7a12-5c67-4586-82e1-cdd6bd40522d",
   "metadata": {},
   "source": [
    "## Single Exponential Smoothing\n",
    "Single Exponential Smoothing, SES for short, also called Simple Exponential Smoothing, is a time series forecasting method for univariate data without a trend or seasonality.\n",
    "\n",
    "It requires a single parameter, called alpha (a), also called the smoothing factor or smoothing coefficient.\n",
    "\n",
    "This parameter controls the rate at which the influence of the observations at prior time steps decay exponentially. Alpha is often set to a value between 0 and 1. Large values mean that the model pays attention mainly to the most recent past observations, whereas smaller values mean more of the history is taken into account when making a prediction.\n",
    "\n",
    "* smaller $alpha$ gives more smoothing , and larger $alpha$ gives less smoothing. \n"
   ]
  },
  {
   "cell_type": "markdown",
   "id": "12558620-dc4b-4754-80dd-08208c3428ff",
   "metadata": {},
   "source": [
    "# $\\hat{x_{i}} = (1-\\alpha ) x_{i-1} + \\alpha x_i$\n",
    "\n",
    "# $ \\hat{x_1} = x_1$"
   ]
  },
  {
   "cell_type": "markdown",
   "id": "27cd2ea6-2e5d-4030-a1af-2803b938a31c",
   "metadata": {},
   "source": [
    "## Double Exponential Smoothing\n",
    "Double Exponential Smoothing is an extension to Exponential Smoothing that explicitly adds support for trends in the univariate time series.\n",
    "\n",
    "In addition to the alpha parameter for controlling smoothing factor for the level, an additional smoothing factor is added to control the decay of the influence of the change in trend called beta (b).\n",
    "\n",
    "The method supports trends that change in different ways: an additive and a multiplicative, depending on whether the trend is linear or exponential respectively.\n",
    "\n",
    "Double Exponential Smoothing with an additive trend is classically referred to as Holt’s linear trend model, named for the developer of the method Charles Holt.\n",
    "\n",
    "Additive Trend: Double Exponential Smoothing with a linear trend.\n",
    "Multiplicative Trend: Double Exponential Smoothing with an exponential trend.\n",
    "For longer range (multi-step) forecasts, the trend may continue on unrealistically. As such, it can be useful to dampen the trend over time"
   ]
  },
  {
   "cell_type": "markdown",
   "id": "3356a653-e43a-4ede-a9d0-382adff1caed",
   "metadata": {},
   "source": [
    "## Triple Exponential Smoothing\n",
    "Triple Exponential Smoothing is an extension of Exponential Smoothing that explicitly adds support for seasonality to the univariate time series.\n",
    "\n",
    "This method is sometimes called Holt-Winters Exponential Smoothing, named for two contributors to the method: Charles Holt and Peter Winters.\n",
    "\n",
    "In addition to the alpha and beta smoothing factors, a new parameter is added called gamma (g) that controls the influence on the seasonal component.\n",
    "\n",
    "As with the trend, the seasonality may be modeled as either an additive or multiplicative process for a linear or exponential change in the seasonality.\n",
    "\n",
    "Additive Seasonality: Triple Exponential Smoothing with a linear seasonality.\n",
    "Multiplicative Seasonality: Triple Exponential Smoothing with an exponential seasonality.\n",
    "\n",
    "Triple exponential smoothing is the most advanced variation of exponential smoothing and through configuration, it can also develop double and single exponential smoothing models.\n",
    "\n",
    "Hyperparameters:\n",
    "\n",
    " * Alpha: Smoothing factor for the level.\n",
    " * Beta: Smoothing factor for the trend.\n",
    " * Gamma: Smoothing factor for the seasonality.\n",
    " * Trend Type: Additive or multiplicative.\n",
    " * Dampen Type: Additive or multiplicative.\n",
    " * Phi: Damping coefficient.\n",
    " * Seasonality Type: Additive or multiplicative.\n",
    " * Period: Time steps in seasonal period."
   ]
  },
  {
   "cell_type": "code",
   "execution_count": null,
   "id": "9475c2fc-2aa3-4e7e-a30d-3d482a5940b5",
   "metadata": {},
   "outputs": [],
   "source": []
  }
 ],
 "metadata": {
  "kernelspec": {
   "display_name": "Python 3",
   "language": "python",
   "name": "python3"
  },
  "language_info": {
   "codemirror_mode": {
    "name": "ipython",
    "version": 3
   },
   "file_extension": ".py",
   "mimetype": "text/x-python",
   "name": "python",
   "nbconvert_exporter": "python",
   "pygments_lexer": "ipython3",
   "version": "3.8.8"
  }
 },
 "nbformat": 4,
 "nbformat_minor": 5
}

{
 "cells": [
  {
   "cell_type": "markdown",
   "id": "c70e6d42",
   "metadata": {},
   "source": [
    "# Task of time series analysis \n",
    " * Visualization and exploratory data analysis \n",
    "   * understanding temporal behaviour of data: seasonality, stationarity \n",
    "   * identifying underslying distribuitons and nature of temporal process producing data \n",
    " * Estimation of past, present and future values \n",
    "    * filtering vs forecasting \n",
    " * Classification of time series \n",
    " * Anomaly Detection of outlier points whithin time series\n",
    " "
   ]
  },
  {
   "cell_type": "markdown",
   "id": "89337081",
   "metadata": {},
   "source": [
    "# Characteristics of time series \n",
    " * Data is collected sequentially one axis is monotonically increasing. \n",
    " * structure is characterised across data points; \n",
    "     * seasonality & cycles \n",
    "     * auto correlation \n",
    "     * trends \n",
    " * stochastic behaviour\n",
    "     * change points/regime shifts v. drift/ gradual change"
   ]
  },
  {
   "cell_type": "markdown",
   "id": "66454830",
   "metadata": {},
   "source": [
    "# AR Modelling"
   ]
  },
  {
   "cell_type": "code",
   "execution_count": 3,
   "id": "afce9672",
   "metadata": {},
   "outputs": [],
   "source": [
    "import pandas as pd \n",
    "import numpy as np \n",
    "from matplotlib import pyplot\n",
    "from statsmodels.tsa.ar_model import AutoReg"
   ]
  },
  {
   "cell_type": "code",
   "execution_count": 5,
   "id": "fa59d7f7",
   "metadata": {},
   "outputs": [
    {
     "ename": "SyntaxError",
     "evalue": "(unicode error) 'unicodeescape' codec can't decode bytes in position 2-3: truncated \\UXXXXXXXX escape (<ipython-input-5-9842465db95f>, line 1)",
     "output_type": "error",
     "traceback": [
      "\u001b[1;36m  File \u001b[1;32m\"<ipython-input-5-9842465db95f>\"\u001b[1;36m, line \u001b[1;32m1\u001b[0m\n\u001b[1;33m    df = pd.read_csv(\"C:\\Users\\ASUS\\Documents\\GitHub\\Time-Series-Analysis\\dataset\\time seris.csv\")\u001b[0m\n\u001b[1;37m                     ^\u001b[0m\n\u001b[1;31mSyntaxError\u001b[0m\u001b[1;31m:\u001b[0m (unicode error) 'unicodeescape' codec can't decode bytes in position 2-3: truncated \\UXXXXXXXX escape\n"
     ]
    }
   ],
   "source": [
    "df = pd.read_csv(\"C:\\Users\\ASUS\\Documents\\GitHub\\Time-Series-Analysis\\dataset\\time seris.csv\")"
   ]
  },
  {
   "cell_type": "code",
   "execution_count": null,
   "id": "c0f3604c",
   "metadata": {},
   "outputs": [],
   "source": []
  }
 ],
 "metadata": {
  "kernelspec": {
   "display_name": "Python 3",
   "language": "python",
   "name": "python3"
  },
  "language_info": {
   "codemirror_mode": {
    "name": "ipython",
    "version": 3
   },
   "file_extension": ".py",
   "mimetype": "text/x-python",
   "name": "python",
   "nbconvert_exporter": "python",
   "pygments_lexer": "ipython3",
   "version": "3.8.8"
  }
 },
 "nbformat": 4,
 "nbformat_minor": 5
}
